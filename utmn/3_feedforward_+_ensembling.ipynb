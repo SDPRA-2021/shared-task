{
  "nbformat": 4,
  "nbformat_minor": 0,
  "metadata": {
    "colab": {
      "name": "3. feedforward + ensembling.ipynb",
      "provenance": [],
      "toc_visible": true
    },
    "kernelspec": {
      "name": "python3",
      "display_name": "Python 3"
    }
  },
  "cells": [
    {
      "cell_type": "markdown",
      "metadata": {
        "id": "jxiXI1lAheOB"
      },
      "source": [
        "#load data and libraries"
      ]
    },
    {
      "cell_type": "code",
      "metadata": {
        "id": "TBUF6vAff3TA"
      },
      "source": [
        "!pip install pymorphy2\r\n",
        "import numpy as np\r\n",
        "import pandas as pd\r\n",
        "import math\r\n",
        "from sklearn.preprocessing import OneHotEncoder\r\n",
        "import re, os, pickle\r\n",
        "\r\n",
        "import keras\r\n",
        "from keras import Sequential\r\n",
        "from keras.preprocessing.text import Tokenizer\r\n",
        "from keras.preprocessing.sequence import pad_sequences\r\n",
        "from keras.utils import to_categorical\r\n",
        "\r\n",
        "from keras.layers import Input, Embedding, Activation, Flatten, Dense, concatenate\r\n",
        "from keras.layers import Conv1D, MaxPooling1D, Dropout, LSTM\r\n",
        "from keras.models import Model\r\n",
        "\r\n",
        "!pip install imblearn\r\n",
        "from imblearn.over_sampling import RandomOverSampler, SMOTE, BorderlineSMOTE"
      ],
      "execution_count": null,
      "outputs": []
    },
    {
      "cell_type": "code",
      "metadata": {
        "id": "KZUX1JC_gEZY"
      },
      "source": [
        "from google.colab import drive\r\n",
        "drive.mount('/content/drive')"
      ],
      "execution_count": null,
      "outputs": []
    },
    {
      "cell_type": "code",
      "metadata": {
        "id": "tkagLwcogd1G"
      },
      "source": [
        "with open('/content/drive/bert_embs_val.pickle', 'rb') as f:\r\n",
        "  val_values = pickle.load(f)\r\n",
        "with open('/content/drive/bert_embs_train.pickle', 'rb') as f:\r\n",
        "  train_values = pickle.load(f)"
      ],
      "execution_count": null,
      "outputs": []
    },
    {
      "cell_type": "code",
      "metadata": {
        "id": "Ob3UgGdtgoGG"
      },
      "source": [
        "df = pd.read_csv('/content/drive/train.csv', header=None, names = ['text','label'])\r\n",
        "df.head()"
      ],
      "execution_count": null,
      "outputs": []
    },
    {
      "cell_type": "code",
      "metadata": {
        "id": "56EoPNvfhS0w"
      },
      "source": [
        "train_texts = df.text.values\r\n",
        "\r\n",
        "possible_labels = df.label.unique()\r\n",
        "label_dict = {}\r\n",
        "for index, possible_label in enumerate(possible_labels):\r\n",
        "  label_dict[possible_label] = index\r\n",
        "\r\n",
        "df['label'] = df.label.replace(label_dict)\r\n",
        "train_labels = df.label.values"
      ],
      "execution_count": null,
      "outputs": []
    },
    {
      "cell_type": "code",
      "metadata": {
        "id": "enN2ItahhWsT"
      },
      "source": [
        "df = pd.read_csv('/content/drive/validation.csv', header=None, names = ['text','label'])\r\n",
        "df.head()"
      ],
      "execution_count": null,
      "outputs": []
    },
    {
      "cell_type": "code",
      "metadata": {
        "id": "Sl6CJ348hZ8e"
      },
      "source": [
        "val_texts = df.text.values\r\n",
        "df['label'] = df.label.replace(label_dict)\r\n",
        "train_labels = list(train_labels) + list(df.label.values)"
      ],
      "execution_count": null,
      "outputs": []
    },
    {
      "cell_type": "code",
      "metadata": {
        "id": "1F-pQuTIlOhm"
      },
      "source": [
        "with open('/content/drive/td_100_train.pickle', 'rb') as f:\r\n",
        "  distributions_train = pickle.load(f)\r\n",
        "with open('/content/drive/td_100_val.pickle', 'rb') as f:\r\n",
        "  distributions_val = pickle.load(f)"
      ],
      "execution_count": null,
      "outputs": []
    },
    {
      "cell_type": "code",
      "metadata": {
        "id": "0C-k_44_lecY"
      },
      "source": [
        "train_data = np.hstack((np.array(train_values),np.array(distributions_train)))\r\n",
        "test_data = np.hstack((np.array(val_values),np.array(distributions_val)))\r\n",
        "\r\n",
        "train_data.shape"
      ],
      "execution_count": null,
      "outputs": []
    },
    {
      "cell_type": "code",
      "metadata": {
        "id": "EDoqQ4FOZ5LN"
      },
      "source": [
        "len(train_labels)"
      ],
      "execution_count": null,
      "outputs": []
    },
    {
      "cell_type": "code",
      "metadata": {
        "id": "U2VNSGOoIiyw"
      },
      "source": [
        "ros = RandomOverSampler(random_state=1)\r\n",
        "train_data_resampled, trai_labels_resampled = ros.fit_resample(train_data, train_labels)"
      ],
      "execution_count": null,
      "outputs": []
    },
    {
      "cell_type": "code",
      "metadata": {
        "id": "Wx-BOylEIyGs"
      },
      "source": [
        "train_data = train_data_resampled\r\n",
        "train_labels = trai_labels_resampled\r\n",
        "\r\n",
        "train_data.shape"
      ],
      "execution_count": null,
      "outputs": []
    },
    {
      "cell_type": "code",
      "metadata": {
        "id": "woNJvWeqcrei"
      },
      "source": [
        "df = pd.DataFrame(train_data)\r\n",
        "df['label'] = pd.Series(train_labels)\r\n",
        "\r\n",
        "df = df.sample(frac=1)\r\n",
        "\r\n",
        "train_labels = df.label.values\r\n",
        "df = df.drop(columns = 'label')\r\n",
        "train_data = df.values\r\n",
        "\r\n",
        "train_data.shape"
      ],
      "execution_count": null,
      "outputs": []
    },
    {
      "cell_type": "markdown",
      "metadata": {
        "id": "iJ3Tn7DThkw2"
      },
      "source": [
        "#ffn"
      ]
    },
    {
      "cell_type": "code",
      "metadata": {
        "id": "wmNHLYY2aVGE"
      },
      "source": [
        "import math\r\n",
        "border = math.ceil(len(train_data) * 0.1)\r\n",
        "\r\n",
        "val_data, train_data = train_data[:border], train_data[border:]\r\n",
        "val_labels, train_labels = train_labels[:border], train_labels[border:]"
      ],
      "execution_count": null,
      "outputs": []
    },
    {
      "cell_type": "code",
      "metadata": {
        "id": "nUjbm_mMhj-J"
      },
      "source": [
        "train_labels = keras.utils.to_categorical(np.array(train_labels),len(label_dict))\r\n",
        "val_labels = keras.utils.to_categorical(np.array(val_labels),len(label_dict))"
      ],
      "execution_count": null,
      "outputs": []
    },
    {
      "cell_type": "code",
      "metadata": {
        "id": "2mnE3FuwiDv4"
      },
      "source": [
        "inputs=Input(shape=(868,), name='input')\r\n",
        "x=Dense(2024, activation='tanh', name='fully_connected_2048_tanh')(inputs)\r\n",
        "x=Dense(1024, activation='tanh', name='fully_connected_1024_tanh')(x)\r\n",
        "predictions=Dense(len(label_dict), activation='softmax', name='output_softmax')(x)\r\n",
        "model=Model(inputs=inputs, outputs=predictions)\r\n",
        "model.compile(optimizer='adam', loss='categorical_crossentropy', metrics=['accuracy'])\r\n",
        "model.summary()\r\n",
        "\r\n",
        "from keras.utils import plot_model\r\n",
        "plot_model(model, to_file='fnn.png')"
      ],
      "execution_count": null,
      "outputs": []
    },
    {
      "cell_type": "code",
      "metadata": {
        "id": "exKm5feebKDj"
      },
      "source": [
        "from sklearn.metrics import accuracy_score, f1_score, recall_score, precision_score\r\n",
        "import pickle\r\n",
        "\r\n",
        "history = model.fit(train_data, train_labels, epochs=5, verbose=2, validation_data=(val_data, val_labels))\r\n",
        "\r\n",
        "predict = np.argmax(model.predict(val_data), axis=1)\r\n",
        "answer = np.argmax(val_labels, axis=1)\r\n",
        "\r\n",
        "f1=f1_score(predict, answer, average='macro')*100\r\n",
        "prec=precision_score(predict, answer, average='macro')*100\r\n",
        "recall=recall_score(predict, answer, average='macro')*100\r\n",
        "accuracy=accuracy_score(predict, answer)*100\r\n",
        "\r\n",
        "print(f1)"
      ],
      "execution_count": null,
      "outputs": []
    },
    {
      "cell_type": "code",
      "metadata": {
        "id": "hlk1zYMLbqJi"
      },
      "source": [
        "prediction = model.predict(test_data)\r\n",
        "\r\n",
        "with open('/content/drive/pred_tm.pickle', 'wb') as f:\r\n",
        "      pickle.dump(prediction, f)"
      ],
      "execution_count": null,
      "outputs": []
    },
    {
      "cell_type": "markdown",
      "metadata": {
        "id": "QhfgnPxi2-xa"
      },
      "source": [
        "#Ensembling"
      ]
    },
    {
      "cell_type": "code",
      "metadata": {
        "id": "VonM6yFLZ4dM"
      },
      "source": [
        "labels = {'LO': 0, 'NI': 1, 'DS': 2, 'CL': 3, 'DC': 4, 'SE': 5, 'CR': 6}\r\n",
        "inv_labels = {v: k for k, v in labels.items()}\r\n",
        "inv_labels"
      ],
      "execution_count": null,
      "outputs": []
    },
    {
      "cell_type": "code",
      "metadata": {
        "id": "a_sIwr7DZ6ie"
      },
      "source": [
        "flat_predictions = [inv_labels[f] for f in flat_predictions]\r\n",
        "flat_predictions[:10]"
      ],
      "execution_count": null,
      "outputs": []
    },
    {
      "cell_type": "code",
      "metadata": {
        "id": "2s3veVMZdybQ"
      },
      "source": [
        "with open('/content/drive/predictions1.pickle', 'rb') as f:\r\n",
        "  pred1 = pickle.load(f)\r\n",
        "\r\n",
        "with open('/content/drive/predictions2.pickle', 'rb') as f:\r\n",
        "  pred2 = pickle.load(f)\r\n",
        "\r\n",
        "with open('/content/drive/predictions3.pickle', 'rb') as f:\r\n",
        "  pred3 = pickle.load(f)"
      ],
      "execution_count": null,
      "outputs": []
    },
    {
      "cell_type": "code",
      "metadata": {
        "id": "cB2FuAo3eBOU"
      },
      "source": [
        "final = []\r\n",
        "for i in range(len(pred1)):\r\n",
        "  final.append(pred1[i]+pred2[1]+pred3[i])\r\n",
        "print(final[0].shape)\r\n",
        "final[0]"
      ],
      "execution_count": null,
      "outputs": []
    },
    {
      "cell_type": "code",
      "metadata": {
        "id": "h7-IrL89eLpZ"
      },
      "source": [
        "flat_predictions = [item for sublist in final for item in sublist]\r\n",
        "flat_predictions[0]"
      ],
      "execution_count": null,
      "outputs": []
    }
  ]
}