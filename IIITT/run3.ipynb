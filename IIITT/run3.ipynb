{
  "nbformat": 4,
  "nbformat_minor": 0,
  "metadata": {
    "colab": {
      "name": "Ensemble_classifier.ipynb",
      "provenance": [],
      "toc_visible": true
    },
    "kernelspec": {
      "name": "python3",
      "display_name": "Python 3"
    }
  },
  "cells": [
    {
      "cell_type": "code",
      "metadata": {
        "id": "lWckrP6pStpg"
      },
      "source": [
        "import pandas as pd\r\n",
        "import numpy as np\r\n",
        "import matplotlib.pyplot as plt\r\n"
      ],
      "execution_count": 1,
      "outputs": []
    },
    {
      "cell_type": "code",
      "metadata": {
        "id": "sLnqm1V6KnJB",
        "outputId": "11b139ae-7be7-40df-8bb7-ec947c095a6c",
        "colab": {
          "base_uri": "https://localhost:8080/"
        }
      },
      "source": [
        "from google.colab import drive\n",
        "drive.mount('/content/drive')"
      ],
      "execution_count": 3,
      "outputs": [
        {
          "output_type": "stream",
          "text": [
            "Mounted at /content/drive\n"
          ],
          "name": "stdout"
        }
      ]
    },
    {
      "cell_type": "code",
      "metadata": {
        "colab": {
          "base_uri": "https://localhost:8080/"
        },
        "id": "4FUUUT_FX1ze",
        "outputId": "580b07bd-70fc-4602-86e2-1ea22174a0f7"
      },
      "source": [
        "cd /content/drive/MyDrive/sdpra2021/pred_probs/"
      ],
      "execution_count": 6,
      "outputs": [
        {
          "output_type": "stream",
          "text": [
            "/content/drive/MyDrive/spdra2021/pred_probs\n"
          ],
          "name": "stdout"
        }
      ]
    },
    {
      "cell_type": "code",
      "metadata": {
        "colab": {
          "base_uri": "https://localhost:8080/",
          "height": 204
        },
        "id": "ounVF-yhYQsL",
        "outputId": "5d3367cd-4f56-4c2a-d3a7-713f5211cb52"
      },
      "source": [
        "bert  = pd.read_csv('bert.csv')\r\n",
        "bert = bert.drop(columns='Unnamed: 0')\r\n",
        "bert.head() "
      ],
      "execution_count": 7,
      "outputs": [
        {
          "output_type": "execute_result",
          "data": {
            "text/html": [
              "<div>\n",
              "<style scoped>\n",
              "    .dataframe tbody tr th:only-of-type {\n",
              "        vertical-align: middle;\n",
              "    }\n",
              "\n",
              "    .dataframe tbody tr th {\n",
              "        vertical-align: top;\n",
              "    }\n",
              "\n",
              "    .dataframe thead th {\n",
              "        text-align: right;\n",
              "    }\n",
              "</style>\n",
              "<table border=\"1\" class=\"dataframe\">\n",
              "  <thead>\n",
              "    <tr style=\"text-align: right;\">\n",
              "      <th></th>\n",
              "      <th>CL</th>\n",
              "      <th>CR</th>\n",
              "      <th>DC</th>\n",
              "      <th>DS</th>\n",
              "      <th>LO</th>\n",
              "      <th>NI</th>\n",
              "      <th>SE</th>\n",
              "      <th>result</th>\n",
              "      <th>abstract</th>\n",
              "    </tr>\n",
              "  </thead>\n",
              "  <tbody>\n",
              "    <tr>\n",
              "      <th>0</th>\n",
              "      <td>0.000150</td>\n",
              "      <td>0.001650</td>\n",
              "      <td>0.986069</td>\n",
              "      <td>0.003539</td>\n",
              "      <td>0.002675</td>\n",
              "      <td>0.002975</td>\n",
              "      <td>0.002942</td>\n",
              "      <td>2</td>\n",
              "      <td>This paper analyses the possibilities of per...</td>\n",
              "    </tr>\n",
              "    <tr>\n",
              "      <th>1</th>\n",
              "      <td>0.000809</td>\n",
              "      <td>0.011402</td>\n",
              "      <td>0.895457</td>\n",
              "      <td>0.010034</td>\n",
              "      <td>0.004086</td>\n",
              "      <td>0.073280</td>\n",
              "      <td>0.004931</td>\n",
              "      <td>2</td>\n",
              "      <td>A finite element method is presented to comp...</td>\n",
              "    </tr>\n",
              "    <tr>\n",
              "      <th>2</th>\n",
              "      <td>0.998192</td>\n",
              "      <td>0.000182</td>\n",
              "      <td>0.000038</td>\n",
              "      <td>0.000098</td>\n",
              "      <td>0.000380</td>\n",
              "      <td>0.000112</td>\n",
              "      <td>0.000999</td>\n",
              "      <td>0</td>\n",
              "      <td>This paper includes a reflection on the role...</td>\n",
              "    </tr>\n",
              "    <tr>\n",
              "      <th>3</th>\n",
              "      <td>0.000124</td>\n",
              "      <td>0.001555</td>\n",
              "      <td>0.002590</td>\n",
              "      <td>0.000685</td>\n",
              "      <td>0.000627</td>\n",
              "      <td>0.993462</td>\n",
              "      <td>0.000958</td>\n",
              "      <td>5</td>\n",
              "      <td>In this document, we describe the fractal st...</td>\n",
              "    </tr>\n",
              "    <tr>\n",
              "      <th>4</th>\n",
              "      <td>0.000166</td>\n",
              "      <td>0.000656</td>\n",
              "      <td>0.001765</td>\n",
              "      <td>0.995629</td>\n",
              "      <td>0.000873</td>\n",
              "      <td>0.000429</td>\n",
              "      <td>0.000482</td>\n",
              "      <td>3</td>\n",
              "      <td>We show how to test whether a graph with n v...</td>\n",
              "    </tr>\n",
              "  </tbody>\n",
              "</table>\n",
              "</div>"
            ],
            "text/plain": [
              "         CL  ...                                           abstract\n",
              "0  0.000150  ...    This paper analyses the possibilities of per...\n",
              "1  0.000809  ...    A finite element method is presented to comp...\n",
              "2  0.998192  ...    This paper includes a reflection on the role...\n",
              "3  0.000124  ...    In this document, we describe the fractal st...\n",
              "4  0.000166  ...    We show how to test whether a graph with n v...\n",
              "\n",
              "[5 rows x 9 columns]"
            ]
          },
          "metadata": {
            "tags": []
          },
          "execution_count": 7
        }
      ]
    },
    {
      "cell_type": "code",
      "metadata": {
        "colab": {
          "base_uri": "https://localhost:8080/",
          "height": 204
        },
        "id": "46d-Z4cYYc5r",
        "outputId": "77d2ba85-cba6-4851-c6a1-f841e4287cfb"
      },
      "source": [
        "roberta = pd.read_csv('roberta.csv')\r\n",
        "roberta = roberta.drop(columns=['Unnamed: 0'])\r\n",
        "roberta.head() "
      ],
      "execution_count": 8,
      "outputs": [
        {
          "output_type": "execute_result",
          "data": {
            "text/html": [
              "<div>\n",
              "<style scoped>\n",
              "    .dataframe tbody tr th:only-of-type {\n",
              "        vertical-align: middle;\n",
              "    }\n",
              "\n",
              "    .dataframe tbody tr th {\n",
              "        vertical-align: top;\n",
              "    }\n",
              "\n",
              "    .dataframe thead th {\n",
              "        text-align: right;\n",
              "    }\n",
              "</style>\n",
              "<table border=\"1\" class=\"dataframe\">\n",
              "  <thead>\n",
              "    <tr style=\"text-align: right;\">\n",
              "      <th></th>\n",
              "      <th>CL</th>\n",
              "      <th>CR</th>\n",
              "      <th>DC</th>\n",
              "      <th>DS</th>\n",
              "      <th>LO</th>\n",
              "      <th>NI</th>\n",
              "      <th>SE</th>\n",
              "      <th>result</th>\n",
              "      <th>abstract</th>\n",
              "    </tr>\n",
              "  </thead>\n",
              "  <tbody>\n",
              "    <tr>\n",
              "      <th>0</th>\n",
              "      <td>0.002313</td>\n",
              "      <td>0.002387</td>\n",
              "      <td>0.980938</td>\n",
              "      <td>0.003960</td>\n",
              "      <td>0.001252</td>\n",
              "      <td>0.005076</td>\n",
              "      <td>0.004074</td>\n",
              "      <td>2</td>\n",
              "      <td>This paper analyses the possibilities of per...</td>\n",
              "    </tr>\n",
              "    <tr>\n",
              "      <th>1</th>\n",
              "      <td>0.002194</td>\n",
              "      <td>0.003206</td>\n",
              "      <td>0.978623</td>\n",
              "      <td>0.005403</td>\n",
              "      <td>0.000872</td>\n",
              "      <td>0.007745</td>\n",
              "      <td>0.001957</td>\n",
              "      <td>2</td>\n",
              "      <td>A finite element method is presented to comp...</td>\n",
              "    </tr>\n",
              "    <tr>\n",
              "      <th>2</th>\n",
              "      <td>0.997938</td>\n",
              "      <td>0.000090</td>\n",
              "      <td>0.000247</td>\n",
              "      <td>0.000461</td>\n",
              "      <td>0.000620</td>\n",
              "      <td>0.000309</td>\n",
              "      <td>0.000335</td>\n",
              "      <td>0</td>\n",
              "      <td>This paper includes a reflection on the role...</td>\n",
              "    </tr>\n",
              "    <tr>\n",
              "      <th>3</th>\n",
              "      <td>0.006236</td>\n",
              "      <td>0.298282</td>\n",
              "      <td>0.384594</td>\n",
              "      <td>0.064093</td>\n",
              "      <td>0.015241</td>\n",
              "      <td>0.203037</td>\n",
              "      <td>0.028518</td>\n",
              "      <td>2</td>\n",
              "      <td>In this document, we describe the fractal st...</td>\n",
              "    </tr>\n",
              "    <tr>\n",
              "      <th>4</th>\n",
              "      <td>0.000752</td>\n",
              "      <td>0.000967</td>\n",
              "      <td>0.001257</td>\n",
              "      <td>0.994632</td>\n",
              "      <td>0.001538</td>\n",
              "      <td>0.000534</td>\n",
              "      <td>0.000321</td>\n",
              "      <td>3</td>\n",
              "      <td>We show how to test whether a graph with n v...</td>\n",
              "    </tr>\n",
              "  </tbody>\n",
              "</table>\n",
              "</div>"
            ],
            "text/plain": [
              "         CL  ...                                           abstract\n",
              "0  0.002313  ...    This paper analyses the possibilities of per...\n",
              "1  0.002194  ...    A finite element method is presented to comp...\n",
              "2  0.997938  ...    This paper includes a reflection on the role...\n",
              "3  0.006236  ...    In this document, we describe the fractal st...\n",
              "4  0.000752  ...    We show how to test whether a graph with n v...\n",
              "\n",
              "[5 rows x 9 columns]"
            ]
          },
          "metadata": {
            "tags": []
          },
          "execution_count": 8
        }
      ]
    },
    {
      "cell_type": "code",
      "metadata": {
        "colab": {
          "base_uri": "https://localhost:8080/",
          "height": 204
        },
        "id": "7N1k70ZBZdKp",
        "outputId": "4df5ba44-1dac-4fe1-825f-7f3b518cc2ac"
      },
      "source": [
        "scibert = pd.read_csv('scibert.csv')\r\n",
        "scibert = scibert.drop(columns='Unnamed: 0')\r\n",
        "scibert.head() "
      ],
      "execution_count": 9,
      "outputs": [
        {
          "output_type": "execute_result",
          "data": {
            "text/html": [
              "<div>\n",
              "<style scoped>\n",
              "    .dataframe tbody tr th:only-of-type {\n",
              "        vertical-align: middle;\n",
              "    }\n",
              "\n",
              "    .dataframe tbody tr th {\n",
              "        vertical-align: top;\n",
              "    }\n",
              "\n",
              "    .dataframe thead th {\n",
              "        text-align: right;\n",
              "    }\n",
              "</style>\n",
              "<table border=\"1\" class=\"dataframe\">\n",
              "  <thead>\n",
              "    <tr style=\"text-align: right;\">\n",
              "      <th></th>\n",
              "      <th>CL</th>\n",
              "      <th>CR</th>\n",
              "      <th>DC</th>\n",
              "      <th>DS</th>\n",
              "      <th>LO</th>\n",
              "      <th>NI</th>\n",
              "      <th>SE</th>\n",
              "      <th>result</th>\n",
              "      <th>abstract</th>\n",
              "    </tr>\n",
              "  </thead>\n",
              "  <tbody>\n",
              "    <tr>\n",
              "      <th>0</th>\n",
              "      <td>0.000159</td>\n",
              "      <td>0.000761</td>\n",
              "      <td>0.994799</td>\n",
              "      <td>0.000768</td>\n",
              "      <td>0.000288</td>\n",
              "      <td>0.001839</td>\n",
              "      <td>0.001386</td>\n",
              "      <td>2</td>\n",
              "      <td>This paper analyses the possibilities of per...</td>\n",
              "    </tr>\n",
              "    <tr>\n",
              "      <th>1</th>\n",
              "      <td>0.000286</td>\n",
              "      <td>0.001598</td>\n",
              "      <td>0.848090</td>\n",
              "      <td>0.002578</td>\n",
              "      <td>0.000714</td>\n",
              "      <td>0.144184</td>\n",
              "      <td>0.002550</td>\n",
              "      <td>2</td>\n",
              "      <td>A finite element method is presented to comp...</td>\n",
              "    </tr>\n",
              "    <tr>\n",
              "      <th>2</th>\n",
              "      <td>0.999109</td>\n",
              "      <td>0.000252</td>\n",
              "      <td>0.000133</td>\n",
              "      <td>0.000148</td>\n",
              "      <td>0.000178</td>\n",
              "      <td>0.000062</td>\n",
              "      <td>0.000117</td>\n",
              "      <td>0</td>\n",
              "      <td>This paper includes a reflection on the role...</td>\n",
              "    </tr>\n",
              "    <tr>\n",
              "      <th>3</th>\n",
              "      <td>0.000146</td>\n",
              "      <td>0.000313</td>\n",
              "      <td>0.002194</td>\n",
              "      <td>0.000169</td>\n",
              "      <td>0.000153</td>\n",
              "      <td>0.996466</td>\n",
              "      <td>0.000559</td>\n",
              "      <td>5</td>\n",
              "      <td>In this document, we describe the fractal st...</td>\n",
              "    </tr>\n",
              "    <tr>\n",
              "      <th>4</th>\n",
              "      <td>0.000225</td>\n",
              "      <td>0.000235</td>\n",
              "      <td>0.000493</td>\n",
              "      <td>0.998302</td>\n",
              "      <td>0.000425</td>\n",
              "      <td>0.000191</td>\n",
              "      <td>0.000129</td>\n",
              "      <td>3</td>\n",
              "      <td>We show how to test whether a graph with n v...</td>\n",
              "    </tr>\n",
              "  </tbody>\n",
              "</table>\n",
              "</div>"
            ],
            "text/plain": [
              "         CL  ...                                           abstract\n",
              "0  0.000159  ...    This paper analyses the possibilities of per...\n",
              "1  0.000286  ...    A finite element method is presented to comp...\n",
              "2  0.999109  ...    This paper includes a reflection on the role...\n",
              "3  0.000146  ...    In this document, we describe the fractal st...\n",
              "4  0.000225  ...    We show how to test whether a graph with n v...\n",
              "\n",
              "[5 rows x 9 columns]"
            ]
          },
          "metadata": {
            "tags": []
          },
          "execution_count": 9
        }
      ]
    },
    {
      "cell_type": "code",
      "metadata": {
        "id": "ULhUk0xsh3_g"
      },
      "source": [
        "test = pd.read_csv('/content/drive/MyDrive/spdra2021/Datasets/test.csv',delimiter=',',\r\n",
        "                 header=None,names=['text'])\r\n",
        " "
      ],
      "execution_count": 10,
      "outputs": []
    },
    {
      "cell_type": "code",
      "metadata": {
        "id": "3ZWYYi6hrC_-"
      },
      "source": [
        "labels = ['CL','CR','DC','DS','LO','NI','SE']"
      ],
      "execution_count": 11,
      "outputs": []
    },
    {
      "cell_type": "code",
      "metadata": {
        "colab": {
          "base_uri": "https://localhost:8080/"
        },
        "id": "Q1rhux11aG7f",
        "outputId": "0a471a06-5282-4170-e3c7-786f8b098ac5"
      },
      "source": [
        "for label in labels:\r\n",
        "    print(label)\r\n",
        "    print(np.corrcoef([bert[label].rank(pct=True), roberta[label].rank(pct=True), scibert[label].rank(pct=True)]))\r\n",
        "submission = pd.DataFrame()\r\n",
        "#submission['id'] = a['abstract']\r\n",
        "for label in labels:\r\n",
        "    submission[label] = (bert[label].rank(pct=True) * 0.3  + roberta[label].rank(pct=True) * 0.3 + scibert[label].rank(pct=True)*0.4)\r\n",
        "submission['result'] = submission.idxmax(axis = 1) \r\n",
        "submission['result'] = submission['result'].apply({'CL':0,'CR':1,'DC':2,\r\n",
        "'DS':3,'LO':4, 'NI':5, 'SE':6}.get) \r\n",
        "submission['id'] = test['text']\r\n",
        "submission.to_csv('submission.csv', index=False)"
      ],
      "execution_count": 18,
      "outputs": [
        {
          "output_type": "stream",
          "text": [
            "CL\n",
            "[[1.         0.60876764 0.79489693]\n",
            " [0.60876764 1.         0.43417398]\n",
            " [0.79489693 0.43417398 1.        ]]\n",
            "CR\n",
            "[[1.         0.81781081 0.77273806]\n",
            " [0.81781081 1.         0.69869303]\n",
            " [0.77273806 0.69869303 1.        ]]\n",
            "DC\n",
            "[[1.         0.84889632 0.85096035]\n",
            " [0.84889632 1.         0.88747852]\n",
            " [0.85096035 0.88747852 1.        ]]\n",
            "DS\n",
            "[[1.         0.92145531 0.84394307]\n",
            " [0.92145531 1.         0.82648213]\n",
            " [0.84394307 0.82648213 1.        ]]\n",
            "LO\n",
            "[[1.         0.82319259 0.72438774]\n",
            " [0.82319259 1.         0.80665013]\n",
            " [0.72438774 0.80665013 1.        ]]\n",
            "NI\n",
            "[[1.         0.92307865 0.91320051]\n",
            " [0.92307865 1.         0.90765773]\n",
            " [0.91320051 0.90765773 1.        ]]\n",
            "SE\n",
            "[[1.         0.71567135 0.72420244]\n",
            " [0.71567135 1.         0.89973318]\n",
            " [0.72420244 0.89973318 1.        ]]\n"
          ],
          "name": "stdout"
        }
      ]
    },
    {
      "cell_type": "code",
      "metadata": {
        "colab": {
          "base_uri": "https://localhost:8080/",
          "height": 419
        },
        "id": "EMqzUplRHjxa",
        "outputId": "7e83ec84-1508-4402-d0ac-1188bcf64a8d"
      },
      "source": [
        "submission"
      ],
      "execution_count": 19,
      "outputs": [
        {
          "output_type": "execute_result",
          "data": {
            "text/html": [
              "<div>\n",
              "<style scoped>\n",
              "    .dataframe tbody tr th:only-of-type {\n",
              "        vertical-align: middle;\n",
              "    }\n",
              "\n",
              "    .dataframe tbody tr th {\n",
              "        vertical-align: top;\n",
              "    }\n",
              "\n",
              "    .dataframe thead th {\n",
              "        text-align: right;\n",
              "    }\n",
              "</style>\n",
              "<table border=\"1\" class=\"dataframe\">\n",
              "  <thead>\n",
              "    <tr style=\"text-align: right;\">\n",
              "      <th></th>\n",
              "      <th>CL</th>\n",
              "      <th>CR</th>\n",
              "      <th>DC</th>\n",
              "      <th>DS</th>\n",
              "      <th>LO</th>\n",
              "      <th>NI</th>\n",
              "      <th>SE</th>\n",
              "      <th>result</th>\n",
              "      <th>id</th>\n",
              "    </tr>\n",
              "  </thead>\n",
              "  <tbody>\n",
              "    <tr>\n",
              "      <th>0</th>\n",
              "      <td>0.295386</td>\n",
              "      <td>0.649800</td>\n",
              "      <td>0.972014</td>\n",
              "      <td>0.686957</td>\n",
              "      <td>0.583686</td>\n",
              "      <td>0.688386</td>\n",
              "      <td>0.762586</td>\n",
              "      <td>2</td>\n",
              "      <td>This paper analyses the possibilities of per...</td>\n",
              "    </tr>\n",
              "    <tr>\n",
              "      <th>1</th>\n",
              "      <td>0.515057</td>\n",
              "      <td>0.769757</td>\n",
              "      <td>0.912929</td>\n",
              "      <td>0.787314</td>\n",
              "      <td>0.658929</td>\n",
              "      <td>0.798314</td>\n",
              "      <td>0.751900</td>\n",
              "      <td>2</td>\n",
              "      <td>A finite element method is presented to comp...</td>\n",
              "    </tr>\n",
              "    <tr>\n",
              "      <th>2</th>\n",
              "      <td>0.919086</td>\n",
              "      <td>0.109029</td>\n",
              "      <td>0.020229</td>\n",
              "      <td>0.074743</td>\n",
              "      <td>0.254557</td>\n",
              "      <td>0.081329</td>\n",
              "      <td>0.208529</td>\n",
              "      <td>0</td>\n",
              "      <td>This paper includes a reflection on the role...</td>\n",
              "    </tr>\n",
              "    <tr>\n",
              "      <th>3</th>\n",
              "      <td>0.310886</td>\n",
              "      <td>0.597586</td>\n",
              "      <td>0.735329</td>\n",
              "      <td>0.481900</td>\n",
              "      <td>0.496643</td>\n",
              "      <td>0.868614</td>\n",
              "      <td>0.534700</td>\n",
              "      <td>5</td>\n",
              "      <td>In this document, we describe the fractal st...</td>\n",
              "    </tr>\n",
              "    <tr>\n",
              "      <th>4</th>\n",
              "      <td>0.224829</td>\n",
              "      <td>0.246786</td>\n",
              "      <td>0.291243</td>\n",
              "      <td>0.973157</td>\n",
              "      <td>0.569500</td>\n",
              "      <td>0.255157</td>\n",
              "      <td>0.099614</td>\n",
              "      <td>3</td>\n",
              "      <td>We show how to test whether a graph with n v...</td>\n",
              "    </tr>\n",
              "    <tr>\n",
              "      <th>...</th>\n",
              "      <td>...</td>\n",
              "      <td>...</td>\n",
              "      <td>...</td>\n",
              "      <td>...</td>\n",
              "      <td>...</td>\n",
              "      <td>...</td>\n",
              "      <td>...</td>\n",
              "      <td>...</td>\n",
              "      <td>...</td>\n",
              "    </tr>\n",
              "    <tr>\n",
              "      <th>6995</th>\n",
              "      <td>0.571286</td>\n",
              "      <td>0.398100</td>\n",
              "      <td>0.397129</td>\n",
              "      <td>0.638014</td>\n",
              "      <td>0.960421</td>\n",
              "      <td>0.256314</td>\n",
              "      <td>0.507057</td>\n",
              "      <td>4</td>\n",
              "      <td>It is common practice to compare the computa...</td>\n",
              "    </tr>\n",
              "    <tr>\n",
              "      <th>6996</th>\n",
              "      <td>0.671786</td>\n",
              "      <td>0.315371</td>\n",
              "      <td>0.296743</td>\n",
              "      <td>0.591829</td>\n",
              "      <td>0.969336</td>\n",
              "      <td>0.271543</td>\n",
              "      <td>0.510771</td>\n",
              "      <td>4</td>\n",
              "      <td>Defeasible reasoning is a simple but efficie...</td>\n",
              "    </tr>\n",
              "    <tr>\n",
              "      <th>6997</th>\n",
              "      <td>0.609871</td>\n",
              "      <td>0.557043</td>\n",
              "      <td>0.410114</td>\n",
              "      <td>0.689214</td>\n",
              "      <td>0.929086</td>\n",
              "      <td>0.351986</td>\n",
              "      <td>0.641114</td>\n",
              "      <td>4</td>\n",
              "      <td>The almost periodic functions form a natural...</td>\n",
              "    </tr>\n",
              "    <tr>\n",
              "      <th>6998</th>\n",
              "      <td>0.571543</td>\n",
              "      <td>0.309000</td>\n",
              "      <td>0.320829</td>\n",
              "      <td>0.614657</td>\n",
              "      <td>0.983743</td>\n",
              "      <td>0.226100</td>\n",
              "      <td>0.545014</td>\n",
              "      <td>4</td>\n",
              "      <td>A notion of alternating timed automata is pr...</td>\n",
              "    </tr>\n",
              "    <tr>\n",
              "      <th>6999</th>\n",
              "      <td>0.641700</td>\n",
              "      <td>0.291729</td>\n",
              "      <td>0.268357</td>\n",
              "      <td>0.596400</td>\n",
              "      <td>0.970171</td>\n",
              "      <td>0.266557</td>\n",
              "      <td>0.541643</td>\n",
              "      <td>4</td>\n",
              "      <td>We present a hierarchical framework for anal...</td>\n",
              "    </tr>\n",
              "  </tbody>\n",
              "</table>\n",
              "<p>7000 rows × 9 columns</p>\n",
              "</div>"
            ],
            "text/plain": [
              "            CL  ...                                                 id\n",
              "0     0.295386  ...    This paper analyses the possibilities of per...\n",
              "1     0.515057  ...    A finite element method is presented to comp...\n",
              "2     0.919086  ...    This paper includes a reflection on the role...\n",
              "3     0.310886  ...    In this document, we describe the fractal st...\n",
              "4     0.224829  ...    We show how to test whether a graph with n v...\n",
              "...        ...  ...                                                ...\n",
              "6995  0.571286  ...    It is common practice to compare the computa...\n",
              "6996  0.671786  ...    Defeasible reasoning is a simple but efficie...\n",
              "6997  0.609871  ...    The almost periodic functions form a natural...\n",
              "6998  0.571543  ...    A notion of alternating timed automata is pr...\n",
              "6999  0.641700  ...    We present a hierarchical framework for anal...\n",
              "\n",
              "[7000 rows x 9 columns]"
            ]
          },
          "metadata": {
            "tags": []
          },
          "execution_count": 19
        }
      ]
    },
    {
      "cell_type": "code",
      "metadata": {
        "id": "7Nl0V7Bm47yj"
      },
      "source": [
        "submission['result'] = submission['result'].apply({0:'CL', 1:'CR', 2:'DC',\r\n",
        "3:'DS', 4:'LO', 5:'NI', 6:'SE' }.get)\r\n"
      ],
      "execution_count": 20,
      "outputs": []
    },
    {
      "cell_type": "code",
      "metadata": {
        "colab": {
          "base_uri": "https://localhost:8080/",
          "height": 34
        },
        "id": "HlxxQwny5kfl",
        "outputId": "51674744-3f1b-4f70-f3ea-5aade7e3a646"
      },
      "source": [
        "result = submission['result'].to_numpy()\r\n",
        "print(len(result))\r\n",
        "np.savetxt(\"run3.txt\", result, fmt = \"%s\")\r\n",
        "from google.colab import files\r\n",
        "files.download('run3.txt')"
      ],
      "execution_count": 21,
      "outputs": [
        {
          "output_type": "stream",
          "text": [
            "7000\n"
          ],
          "name": "stdout"
        },
        {
          "output_type": "display_data",
          "data": {
            "application/javascript": [
              "\n",
              "    async function download(id, filename, size) {\n",
              "      if (!google.colab.kernel.accessAllowed) {\n",
              "        return;\n",
              "      }\n",
              "      const div = document.createElement('div');\n",
              "      const label = document.createElement('label');\n",
              "      label.textContent = `Downloading \"${filename}\": `;\n",
              "      div.appendChild(label);\n",
              "      const progress = document.createElement('progress');\n",
              "      progress.max = size;\n",
              "      div.appendChild(progress);\n",
              "      document.body.appendChild(div);\n",
              "\n",
              "      const buffers = [];\n",
              "      let downloaded = 0;\n",
              "\n",
              "      const channel = await google.colab.kernel.comms.open(id);\n",
              "      // Send a message to notify the kernel that we're ready.\n",
              "      channel.send({})\n",
              "\n",
              "      for await (const message of channel.messages) {\n",
              "        // Send a message to notify the kernel that we're ready.\n",
              "        channel.send({})\n",
              "        if (message.buffers) {\n",
              "          for (const buffer of message.buffers) {\n",
              "            buffers.push(buffer);\n",
              "            downloaded += buffer.byteLength;\n",
              "            progress.value = downloaded;\n",
              "          }\n",
              "        }\n",
              "      }\n",
              "      const blob = new Blob(buffers, {type: 'application/binary'});\n",
              "      const a = document.createElement('a');\n",
              "      a.href = window.URL.createObjectURL(blob);\n",
              "      a.download = filename;\n",
              "      div.appendChild(a);\n",
              "      a.click();\n",
              "      div.remove();\n",
              "    }\n",
              "  "
            ],
            "text/plain": [
              "<IPython.core.display.Javascript object>"
            ]
          },
          "metadata": {
            "tags": []
          }
        },
        {
          "output_type": "display_data",
          "data": {
            "application/javascript": [
              "download(\"download_d23b42c0-641a-49da-8061-44c07f762bf1\", \"run3.txt\", 21000)"
            ],
            "text/plain": [
              "<IPython.core.display.Javascript object>"
            ]
          },
          "metadata": {
            "tags": []
          }
        }
      ]
    },
    {
      "cell_type": "markdown",
      "metadata": {
        "id": "0pBDXhATIqGJ"
      },
      "source": [
        "#Predictions "
      ]
    },
    {
      "cell_type": "code",
      "metadata": {
        "id": "0T6MeF7NkxY4"
      },
      "source": [
        "\r\n",
        "\r\n",
        "\"\"\"\r\n",
        "The submission file IIITT.zip has the systems as follows:\r\n",
        "\r\n",
        "run 1 : Pre-trained Transformer Model (allenai/scibert_scivocab_uncased)\r\n",
        "run 2 : Average of probabities of predictions of ( BERT_base_uncased + RoBERTa_base + SciBERT)\r\n",
        "run 3 : Ensemble of probabilities of predictions by ranking the percentile of the result stored as a pandas DataFrame\r\n",
        "\"\"\""
      ],
      "execution_count": null,
      "outputs": []
    },
    {
      "cell_type": "code",
      "metadata": {
        "id": "bQH0FM_ZMBVP"
      },
      "source": [
        ""
      ],
      "execution_count": null,
      "outputs": []
    }
  ]
}