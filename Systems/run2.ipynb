{
  "nbformat": 4,
  "nbformat_minor": 0,
  "metadata": {
    "colab": {
      "name": "Ensemble_classifier.ipynb",
      "provenance": []
    },
    "kernelspec": {
      "name": "python3",
      "display_name": "Python 3"
    }
  },
  "cells": [
    {
      "cell_type": "code",
      "metadata": {
        "id": "lWckrP6pStpg"
      },
      "source": [
        "import pandas as pd\r\n",
        "import numpy as np\r\n",
        "import matplotlib.pyplot as plt\r\n"
      ],
      "execution_count": null,
      "outputs": []
    },
    {
      "cell_type": "code",
      "metadata": {
        "colab": {
          "base_uri": "https://localhost:8080/"
        },
        "id": "4FUUUT_FX1ze",
        "outputId": "bba714b3-29dd-4e68-acbd-3624f1ceb354"
      },
      "source": [
        "cd /content/drive/MyDrive/sdpra2021/pred_probs/"
      ],
      "execution_count": null,
      "outputs": [
        {
          "output_type": "stream",
          "text": [
            "/content/drive/MyDrive/sdpra2021/pred_probs\n"
          ],
          "name": "stdout"
        }
      ]
    },
    {
      "cell_type": "code",
      "metadata": {
        "colab": {
          "base_uri": "https://localhost:8080/",
          "height": 204
        },
        "id": "ounVF-yhYQsL",
        "outputId": "8020bb22-24ad-499d-d87b-a12cac302747"
      },
      "source": [
        "bert  = pd.read_csv('bert.csv')\r\n",
        "bert = bert.drop(columns='Unnamed: 0')\r\n",
        "bert.head() "
      ],
      "execution_count": null,
      "outputs": [
        {
          "output_type": "execute_result",
          "data": {
            "text/html": [
              "<div>\n",
              "<style scoped>\n",
              "    .dataframe tbody tr th:only-of-type {\n",
              "        vertical-align: middle;\n",
              "    }\n",
              "\n",
              "    .dataframe tbody tr th {\n",
              "        vertical-align: top;\n",
              "    }\n",
              "\n",
              "    .dataframe thead th {\n",
              "        text-align: right;\n",
              "    }\n",
              "</style>\n",
              "<table border=\"1\" class=\"dataframe\">\n",
              "  <thead>\n",
              "    <tr style=\"text-align: right;\">\n",
              "      <th></th>\n",
              "      <th>CL</th>\n",
              "      <th>CR</th>\n",
              "      <th>DC</th>\n",
              "      <th>DS</th>\n",
              "      <th>LO</th>\n",
              "      <th>NI</th>\n",
              "      <th>SE</th>\n",
              "      <th>result</th>\n",
              "      <th>abstract</th>\n",
              "    </tr>\n",
              "  </thead>\n",
              "  <tbody>\n",
              "    <tr>\n",
              "      <th>0</th>\n",
              "      <td>0.000150</td>\n",
              "      <td>0.001650</td>\n",
              "      <td>0.986069</td>\n",
              "      <td>0.003539</td>\n",
              "      <td>0.002675</td>\n",
              "      <td>0.002975</td>\n",
              "      <td>0.002942</td>\n",
              "      <td>2</td>\n",
              "      <td>This paper analyses the possibilities of per...</td>\n",
              "    </tr>\n",
              "    <tr>\n",
              "      <th>1</th>\n",
              "      <td>0.000809</td>\n",
              "      <td>0.011402</td>\n",
              "      <td>0.895457</td>\n",
              "      <td>0.010034</td>\n",
              "      <td>0.004086</td>\n",
              "      <td>0.073280</td>\n",
              "      <td>0.004931</td>\n",
              "      <td>2</td>\n",
              "      <td>A finite element method is presented to comp...</td>\n",
              "    </tr>\n",
              "    <tr>\n",
              "      <th>2</th>\n",
              "      <td>0.998192</td>\n",
              "      <td>0.000182</td>\n",
              "      <td>0.000038</td>\n",
              "      <td>0.000098</td>\n",
              "      <td>0.000380</td>\n",
              "      <td>0.000112</td>\n",
              "      <td>0.000999</td>\n",
              "      <td>0</td>\n",
              "      <td>This paper includes a reflection on the role...</td>\n",
              "    </tr>\n",
              "    <tr>\n",
              "      <th>3</th>\n",
              "      <td>0.000124</td>\n",
              "      <td>0.001555</td>\n",
              "      <td>0.002590</td>\n",
              "      <td>0.000685</td>\n",
              "      <td>0.000627</td>\n",
              "      <td>0.993462</td>\n",
              "      <td>0.000958</td>\n",
              "      <td>5</td>\n",
              "      <td>In this document, we describe the fractal st...</td>\n",
              "    </tr>\n",
              "    <tr>\n",
              "      <th>4</th>\n",
              "      <td>0.000166</td>\n",
              "      <td>0.000656</td>\n",
              "      <td>0.001765</td>\n",
              "      <td>0.995629</td>\n",
              "      <td>0.000873</td>\n",
              "      <td>0.000429</td>\n",
              "      <td>0.000482</td>\n",
              "      <td>3</td>\n",
              "      <td>We show how to test whether a graph with n v...</td>\n",
              "    </tr>\n",
              "  </tbody>\n",
              "</table>\n",
              "</div>"
            ],
            "text/plain": [
              "         CL  ...                                           abstract\n",
              "0  0.000150  ...    This paper analyses the possibilities of per...\n",
              "1  0.000809  ...    A finite element method is presented to comp...\n",
              "2  0.998192  ...    This paper includes a reflection on the role...\n",
              "3  0.000124  ...    In this document, we describe the fractal st...\n",
              "4  0.000166  ...    We show how to test whether a graph with n v...\n",
              "\n",
              "[5 rows x 9 columns]"
            ]
          },
          "metadata": {
            "tags": []
          },
          "execution_count": 5
        }
      ]
    },
    {
      "cell_type": "code",
      "metadata": {
        "colab": {
          "base_uri": "https://localhost:8080/",
          "height": 204
        },
        "id": "46d-Z4cYYc5r",
        "outputId": "97fcfe13-9e50-44ed-bf96-282ada494420"
      },
      "source": [
        "roberta = pd.read_csv('roberta.csv')\r\n",
        "roberta = roberta.drop(columns=['Unnamed: 0'])\r\n",
        "roberta.head() "
      ],
      "execution_count": null,
      "outputs": [
        {
          "output_type": "execute_result",
          "data": {
            "text/html": [
              "<div>\n",
              "<style scoped>\n",
              "    .dataframe tbody tr th:only-of-type {\n",
              "        vertical-align: middle;\n",
              "    }\n",
              "\n",
              "    .dataframe tbody tr th {\n",
              "        vertical-align: top;\n",
              "    }\n",
              "\n",
              "    .dataframe thead th {\n",
              "        text-align: right;\n",
              "    }\n",
              "</style>\n",
              "<table border=\"1\" class=\"dataframe\">\n",
              "  <thead>\n",
              "    <tr style=\"text-align: right;\">\n",
              "      <th></th>\n",
              "      <th>CL</th>\n",
              "      <th>CR</th>\n",
              "      <th>DC</th>\n",
              "      <th>DS</th>\n",
              "      <th>LO</th>\n",
              "      <th>NI</th>\n",
              "      <th>SE</th>\n",
              "      <th>result</th>\n",
              "      <th>abstract</th>\n",
              "    </tr>\n",
              "  </thead>\n",
              "  <tbody>\n",
              "    <tr>\n",
              "      <th>0</th>\n",
              "      <td>0.002313</td>\n",
              "      <td>0.002387</td>\n",
              "      <td>0.980938</td>\n",
              "      <td>0.003960</td>\n",
              "      <td>0.001252</td>\n",
              "      <td>0.005076</td>\n",
              "      <td>0.004074</td>\n",
              "      <td>2</td>\n",
              "      <td>This paper analyses the possibilities of per...</td>\n",
              "    </tr>\n",
              "    <tr>\n",
              "      <th>1</th>\n",
              "      <td>0.002194</td>\n",
              "      <td>0.003206</td>\n",
              "      <td>0.978623</td>\n",
              "      <td>0.005403</td>\n",
              "      <td>0.000872</td>\n",
              "      <td>0.007745</td>\n",
              "      <td>0.001957</td>\n",
              "      <td>2</td>\n",
              "      <td>A finite element method is presented to comp...</td>\n",
              "    </tr>\n",
              "    <tr>\n",
              "      <th>2</th>\n",
              "      <td>0.997938</td>\n",
              "      <td>0.000090</td>\n",
              "      <td>0.000247</td>\n",
              "      <td>0.000461</td>\n",
              "      <td>0.000620</td>\n",
              "      <td>0.000309</td>\n",
              "      <td>0.000335</td>\n",
              "      <td>0</td>\n",
              "      <td>This paper includes a reflection on the role...</td>\n",
              "    </tr>\n",
              "    <tr>\n",
              "      <th>3</th>\n",
              "      <td>0.006236</td>\n",
              "      <td>0.298282</td>\n",
              "      <td>0.384594</td>\n",
              "      <td>0.064093</td>\n",
              "      <td>0.015241</td>\n",
              "      <td>0.203037</td>\n",
              "      <td>0.028518</td>\n",
              "      <td>2</td>\n",
              "      <td>In this document, we describe the fractal st...</td>\n",
              "    </tr>\n",
              "    <tr>\n",
              "      <th>4</th>\n",
              "      <td>0.000752</td>\n",
              "      <td>0.000967</td>\n",
              "      <td>0.001257</td>\n",
              "      <td>0.994632</td>\n",
              "      <td>0.001538</td>\n",
              "      <td>0.000534</td>\n",
              "      <td>0.000321</td>\n",
              "      <td>3</td>\n",
              "      <td>We show how to test whether a graph with n v...</td>\n",
              "    </tr>\n",
              "  </tbody>\n",
              "</table>\n",
              "</div>"
            ],
            "text/plain": [
              "         CL  ...                                           abstract\n",
              "0  0.002313  ...    This paper analyses the possibilities of per...\n",
              "1  0.002194  ...    A finite element method is presented to comp...\n",
              "2  0.997938  ...    This paper includes a reflection on the role...\n",
              "3  0.006236  ...    In this document, we describe the fractal st...\n",
              "4  0.000752  ...    We show how to test whether a graph with n v...\n",
              "\n",
              "[5 rows x 9 columns]"
            ]
          },
          "metadata": {
            "tags": []
          },
          "execution_count": 7
        }
      ]
    },
    {
      "cell_type": "code",
      "metadata": {
        "colab": {
          "base_uri": "https://localhost:8080/",
          "height": 204
        },
        "id": "7N1k70ZBZdKp",
        "outputId": "c0facf87-f366-43a4-aa0c-2be4a66110c2"
      },
      "source": [
        "scibert = pd.read_csv('scibert.csv')\r\n",
        "scibert = scibert.drop(columns='Unnamed: 0')\r\n",
        "scibert.head() "
      ],
      "execution_count": null,
      "outputs": [
        {
          "output_type": "execute_result",
          "data": {
            "text/html": [
              "<div>\n",
              "<style scoped>\n",
              "    .dataframe tbody tr th:only-of-type {\n",
              "        vertical-align: middle;\n",
              "    }\n",
              "\n",
              "    .dataframe tbody tr th {\n",
              "        vertical-align: top;\n",
              "    }\n",
              "\n",
              "    .dataframe thead th {\n",
              "        text-align: right;\n",
              "    }\n",
              "</style>\n",
              "<table border=\"1\" class=\"dataframe\">\n",
              "  <thead>\n",
              "    <tr style=\"text-align: right;\">\n",
              "      <th></th>\n",
              "      <th>CL</th>\n",
              "      <th>CR</th>\n",
              "      <th>DC</th>\n",
              "      <th>DS</th>\n",
              "      <th>LO</th>\n",
              "      <th>NI</th>\n",
              "      <th>SE</th>\n",
              "      <th>result</th>\n",
              "      <th>abstract</th>\n",
              "    </tr>\n",
              "  </thead>\n",
              "  <tbody>\n",
              "    <tr>\n",
              "      <th>0</th>\n",
              "      <td>0.000159</td>\n",
              "      <td>0.000761</td>\n",
              "      <td>0.994799</td>\n",
              "      <td>0.000768</td>\n",
              "      <td>0.000288</td>\n",
              "      <td>0.001839</td>\n",
              "      <td>0.001386</td>\n",
              "      <td>2</td>\n",
              "      <td>This paper analyses the possibilities of per...</td>\n",
              "    </tr>\n",
              "    <tr>\n",
              "      <th>1</th>\n",
              "      <td>0.000286</td>\n",
              "      <td>0.001598</td>\n",
              "      <td>0.848090</td>\n",
              "      <td>0.002578</td>\n",
              "      <td>0.000714</td>\n",
              "      <td>0.144184</td>\n",
              "      <td>0.002550</td>\n",
              "      <td>2</td>\n",
              "      <td>A finite element method is presented to comp...</td>\n",
              "    </tr>\n",
              "    <tr>\n",
              "      <th>2</th>\n",
              "      <td>0.999109</td>\n",
              "      <td>0.000252</td>\n",
              "      <td>0.000133</td>\n",
              "      <td>0.000148</td>\n",
              "      <td>0.000178</td>\n",
              "      <td>0.000062</td>\n",
              "      <td>0.000117</td>\n",
              "      <td>0</td>\n",
              "      <td>This paper includes a reflection on the role...</td>\n",
              "    </tr>\n",
              "    <tr>\n",
              "      <th>3</th>\n",
              "      <td>0.000146</td>\n",
              "      <td>0.000313</td>\n",
              "      <td>0.002194</td>\n",
              "      <td>0.000169</td>\n",
              "      <td>0.000153</td>\n",
              "      <td>0.996466</td>\n",
              "      <td>0.000559</td>\n",
              "      <td>5</td>\n",
              "      <td>In this document, we describe the fractal st...</td>\n",
              "    </tr>\n",
              "    <tr>\n",
              "      <th>4</th>\n",
              "      <td>0.000225</td>\n",
              "      <td>0.000235</td>\n",
              "      <td>0.000493</td>\n",
              "      <td>0.998302</td>\n",
              "      <td>0.000425</td>\n",
              "      <td>0.000191</td>\n",
              "      <td>0.000129</td>\n",
              "      <td>3</td>\n",
              "      <td>We show how to test whether a graph with n v...</td>\n",
              "    </tr>\n",
              "  </tbody>\n",
              "</table>\n",
              "</div>"
            ],
            "text/plain": [
              "         CL  ...                                           abstract\n",
              "0  0.000159  ...    This paper analyses the possibilities of per...\n",
              "1  0.000286  ...    A finite element method is presented to comp...\n",
              "2  0.999109  ...    This paper includes a reflection on the role...\n",
              "3  0.000146  ...    In this document, we describe the fractal st...\n",
              "4  0.000225  ...    We show how to test whether a graph with n v...\n",
              "\n",
              "[5 rows x 9 columns]"
            ]
          },
          "metadata": {
            "tags": []
          },
          "execution_count": 19
        }
      ]
    },
    {
      "cell_type": "code",
      "metadata": {
        "id": "ULhUk0xsh3_g"
      },
      "source": [
        "test = pd.read_csv('/content/drive/MyDrive/spdra2021/Datasets/test.csv',delimiter=',',\r\n",
        "                 header=None,names=['text'])\r\n",
        " "
      ],
      "execution_count": null,
      "outputs": []
    },
    {
      "cell_type": "code",
      "metadata": {
        "id": "3ZWYYi6hrC_-"
      },
      "source": [
        "labels = ['CL','CR','DC','DS','LO','NI','SE']"
      ],
      "execution_count": null,
      "outputs": []
    },
    {
      "cell_type": "code",
      "metadata": {
        "colab": {
          "base_uri": "https://localhost:8080/"
        },
        "id": "_Zj5_hh64Wk4",
        "outputId": "3ec48089-225f-44c3-e524-099d8a43ce86"
      },
      "source": [
        "test['text']"
      ],
      "execution_count": null,
      "outputs": [
        {
          "output_type": "execute_result",
          "data": {
            "text/plain": [
              "0         This paper analyses the possibilities of per...\n",
              "1         A finite element method is presented to comp...\n",
              "2         This paper includes a reflection on the role...\n",
              "3         In this document, we describe the fractal st...\n",
              "4         We show how to test whether a graph with n v...\n",
              "                              ...                        \n",
              "6995      It is common practice to compare the computa...\n",
              "6996      Defeasible reasoning is a simple but efficie...\n",
              "6997      The almost periodic functions form a natural...\n",
              "6998      A notion of alternating timed automata is pr...\n",
              "6999      We present a hierarchical framework for anal...\n",
              "Name: text, Length: 7000, dtype: object"
            ]
          },
          "metadata": {
            "tags": []
          },
          "execution_count": 42
        }
      ]
    },
    {
      "cell_type": "code",
      "metadata": {
        "colab": {
          "base_uri": "https://localhost:8080/"
        },
        "id": "Q1rhux11aG7f",
        "outputId": "8a7ef2ef-5f1b-4b7a-a0f5-3b6c4099bf86"
      },
      "source": [
        "for label in labels:\r\n",
        "    print(label)\r\n",
        "    print(np.corrcoef([bert[label].rank(pct=True), roberta[label].rank(pct=True), scibert[label].rank(pct=True)]))\r\n",
        "submission = pd.DataFrame()\r\n",
        "#submission['id'] = a['abstract']\r\n",
        "for label in labels:\r\n",
        "    submission[label] = round((bert[label]  + roberta[label] + scibert[label])/3,6)\r\n",
        "submission['result'] = submission.idxmax(axis = 1) \r\n",
        "submission['result'] = submission['result'].apply({'CL':0,'CR':1,'DC':2,\r\n",
        "'DS':3,'LO':4, 'NI':5, 'SE':6}.get) \r\n",
        "submission['id'] = test['text']\r\n",
        "submission.to_csv('submission.csv', index=False)"
      ],
      "execution_count": null,
      "outputs": [
        {
          "output_type": "stream",
          "text": [
            "CL\n",
            "[[1.         0.60876764 0.79489693]\n",
            " [0.60876764 1.         0.43417398]\n",
            " [0.79489693 0.43417398 1.        ]]\n",
            "CR\n",
            "[[1.         0.81781081 0.77273806]\n",
            " [0.81781081 1.         0.69869303]\n",
            " [0.77273806 0.69869303 1.        ]]\n",
            "DC\n",
            "[[1.         0.84889632 0.85096035]\n",
            " [0.84889632 1.         0.88747852]\n",
            " [0.85096035 0.88747852 1.        ]]\n",
            "DS\n",
            "[[1.         0.92145531 0.84394307]\n",
            " [0.92145531 1.         0.82648213]\n",
            " [0.84394307 0.82648213 1.        ]]\n",
            "LO\n",
            "[[1.         0.82319259 0.72438774]\n",
            " [0.82319259 1.         0.80665013]\n",
            " [0.72438774 0.80665013 1.        ]]\n",
            "NI\n",
            "[[1.         0.92307865 0.91320051]\n",
            " [0.92307865 1.         0.90765773]\n",
            " [0.91320051 0.90765773 1.        ]]\n",
            "SE\n",
            "[[1.         0.71567135 0.72420244]\n",
            " [0.71567135 1.         0.89973318]\n",
            " [0.72420244 0.89973318 1.        ]]\n"
          ],
          "name": "stdout"
        }
      ]
    },
    {
      "cell_type": "code",
      "metadata": {
        "colab": {
          "base_uri": "https://localhost:8080/",
          "height": 405
        },
        "id": "EMqzUplRHjxa",
        "outputId": "590418e4-cadb-4e96-c48d-da936cc05ce7"
      },
      "source": [
        "submission"
      ],
      "execution_count": null,
      "outputs": [
        {
          "output_type": "execute_result",
          "data": {
            "text/html": [
              "<div>\n",
              "<style scoped>\n",
              "    .dataframe tbody tr th:only-of-type {\n",
              "        vertical-align: middle;\n",
              "    }\n",
              "\n",
              "    .dataframe tbody tr th {\n",
              "        vertical-align: top;\n",
              "    }\n",
              "\n",
              "    .dataframe thead th {\n",
              "        text-align: right;\n",
              "    }\n",
              "</style>\n",
              "<table border=\"1\" class=\"dataframe\">\n",
              "  <thead>\n",
              "    <tr style=\"text-align: right;\">\n",
              "      <th></th>\n",
              "      <th>CL</th>\n",
              "      <th>CR</th>\n",
              "      <th>DC</th>\n",
              "      <th>DS</th>\n",
              "      <th>LO</th>\n",
              "      <th>NI</th>\n",
              "      <th>SE</th>\n",
              "      <th>result</th>\n",
              "      <th>id</th>\n",
              "    </tr>\n",
              "  </thead>\n",
              "  <tbody>\n",
              "    <tr>\n",
              "      <th>0</th>\n",
              "      <td>0.000874</td>\n",
              "      <td>0.001599</td>\n",
              "      <td>0.987269</td>\n",
              "      <td>0.002756</td>\n",
              "      <td>0.001405</td>\n",
              "      <td>0.003297</td>\n",
              "      <td>0.002801</td>\n",
              "      <td>2</td>\n",
              "      <td>This paper analyses the possibilities of per...</td>\n",
              "    </tr>\n",
              "    <tr>\n",
              "      <th>1</th>\n",
              "      <td>0.001096</td>\n",
              "      <td>0.005402</td>\n",
              "      <td>0.907390</td>\n",
              "      <td>0.006005</td>\n",
              "      <td>0.001891</td>\n",
              "      <td>0.075070</td>\n",
              "      <td>0.003146</td>\n",
              "      <td>2</td>\n",
              "      <td>A finite element method is presented to comp...</td>\n",
              "    </tr>\n",
              "    <tr>\n",
              "      <th>2</th>\n",
              "      <td>0.998413</td>\n",
              "      <td>0.000175</td>\n",
              "      <td>0.000140</td>\n",
              "      <td>0.000236</td>\n",
              "      <td>0.000392</td>\n",
              "      <td>0.000161</td>\n",
              "      <td>0.000484</td>\n",
              "      <td>0</td>\n",
              "      <td>This paper includes a reflection on the role...</td>\n",
              "    </tr>\n",
              "    <tr>\n",
              "      <th>3</th>\n",
              "      <td>0.002169</td>\n",
              "      <td>0.100050</td>\n",
              "      <td>0.129793</td>\n",
              "      <td>0.021649</td>\n",
              "      <td>0.005341</td>\n",
              "      <td>0.730988</td>\n",
              "      <td>0.010011</td>\n",
              "      <td>5</td>\n",
              "      <td>In this document, we describe the fractal st...</td>\n",
              "    </tr>\n",
              "    <tr>\n",
              "      <th>4</th>\n",
              "      <td>0.000381</td>\n",
              "      <td>0.000619</td>\n",
              "      <td>0.001172</td>\n",
              "      <td>0.996188</td>\n",
              "      <td>0.000945</td>\n",
              "      <td>0.000385</td>\n",
              "      <td>0.000311</td>\n",
              "      <td>3</td>\n",
              "      <td>We show how to test whether a graph with n v...</td>\n",
              "    </tr>\n",
              "    <tr>\n",
              "      <th>...</th>\n",
              "      <td>...</td>\n",
              "      <td>...</td>\n",
              "      <td>...</td>\n",
              "      <td>...</td>\n",
              "      <td>...</td>\n",
              "      <td>...</td>\n",
              "      <td>...</td>\n",
              "      <td>...</td>\n",
              "      <td>...</td>\n",
              "    </tr>\n",
              "    <tr>\n",
              "      <th>6995</th>\n",
              "      <td>0.001178</td>\n",
              "      <td>0.000596</td>\n",
              "      <td>0.001409</td>\n",
              "      <td>0.002084</td>\n",
              "      <td>0.992788</td>\n",
              "      <td>0.000509</td>\n",
              "      <td>0.001437</td>\n",
              "      <td>4</td>\n",
              "      <td>It is common practice to compare the computa...</td>\n",
              "    </tr>\n",
              "    <tr>\n",
              "      <th>6996</th>\n",
              "      <td>0.001471</td>\n",
              "      <td>0.000475</td>\n",
              "      <td>0.001046</td>\n",
              "      <td>0.001694</td>\n",
              "      <td>0.993390</td>\n",
              "      <td>0.000495</td>\n",
              "      <td>0.001430</td>\n",
              "      <td>4</td>\n",
              "      <td>Defeasible reasoning is a simple but efficie...</td>\n",
              "    </tr>\n",
              "    <tr>\n",
              "      <th>6997</th>\n",
              "      <td>0.001451</td>\n",
              "      <td>0.001185</td>\n",
              "      <td>0.001605</td>\n",
              "      <td>0.004924</td>\n",
              "      <td>0.988287</td>\n",
              "      <td>0.000649</td>\n",
              "      <td>0.001898</td>\n",
              "      <td>4</td>\n",
              "      <td>The almost periodic functions form a natural...</td>\n",
              "    </tr>\n",
              "    <tr>\n",
              "      <th>6998</th>\n",
              "      <td>0.001222</td>\n",
              "      <td>0.000495</td>\n",
              "      <td>0.001089</td>\n",
              "      <td>0.001730</td>\n",
              "      <td>0.993416</td>\n",
              "      <td>0.000470</td>\n",
              "      <td>0.001579</td>\n",
              "      <td>4</td>\n",
              "      <td>A notion of alternating timed automata is pr...</td>\n",
              "    </tr>\n",
              "    <tr>\n",
              "      <th>6999</th>\n",
              "      <td>0.001455</td>\n",
              "      <td>0.000472</td>\n",
              "      <td>0.001029</td>\n",
              "      <td>0.001684</td>\n",
              "      <td>0.993397</td>\n",
              "      <td>0.000490</td>\n",
              "      <td>0.001474</td>\n",
              "      <td>4</td>\n",
              "      <td>We present a hierarchical framework for anal...</td>\n",
              "    </tr>\n",
              "  </tbody>\n",
              "</table>\n",
              "<p>7000 rows × 9 columns</p>\n",
              "</div>"
            ],
            "text/plain": [
              "            CL  ...                                                 id\n",
              "0     0.000874  ...    This paper analyses the possibilities of per...\n",
              "1     0.001096  ...    A finite element method is presented to comp...\n",
              "2     0.998413  ...    This paper includes a reflection on the role...\n",
              "3     0.002169  ...    In this document, we describe the fractal st...\n",
              "4     0.000381  ...    We show how to test whether a graph with n v...\n",
              "...        ...  ...                                                ...\n",
              "6995  0.001178  ...    It is common practice to compare the computa...\n",
              "6996  0.001471  ...    Defeasible reasoning is a simple but efficie...\n",
              "6997  0.001451  ...    The almost periodic functions form a natural...\n",
              "6998  0.001222  ...    A notion of alternating timed automata is pr...\n",
              "6999  0.001455  ...    We present a hierarchical framework for anal...\n",
              "\n",
              "[7000 rows x 9 columns]"
            ]
          },
          "metadata": {
            "tags": []
          },
          "execution_count": 48
        }
      ]
    },
    {
      "cell_type": "code",
      "metadata": {
        "id": "7Nl0V7Bm47yj"
      },
      "source": [
        "submission['result'] = submission['result'].apply({0:'CL', 1:'CR', 2:'DC',\r\n",
        "3:'DS', 4:'LO', 5:'NI', 6:'SE' }.get)\r\n"
      ],
      "execution_count": null,
      "outputs": []
    },
    {
      "cell_type": "code",
      "metadata": {
        "colab": {
          "base_uri": "https://localhost:8080/",
          "height": 34
        },
        "id": "HlxxQwny5kfl",
        "outputId": "61254762-c27b-41e1-adee-584c01dc7269"
      },
      "source": [
        "result = submission['result'].to_numpy()\r\n",
        "print(len(result))\r\n",
        "np.savetxt(\"run2.txt\", result, fmt = \"%s\")\r\n",
        "from google.colab import files\r\n",
        "files.download('run2.txt')"
      ],
      "execution_count": null,
      "outputs": [
        {
          "output_type": "stream",
          "text": [
            "7000\n"
          ],
          "name": "stdout"
        },
        {
          "output_type": "display_data",
          "data": {
            "application/javascript": [
              "\n",
              "    async function download(id, filename, size) {\n",
              "      if (!google.colab.kernel.accessAllowed) {\n",
              "        return;\n",
              "      }\n",
              "      const div = document.createElement('div');\n",
              "      const label = document.createElement('label');\n",
              "      label.textContent = `Downloading \"${filename}\": `;\n",
              "      div.appendChild(label);\n",
              "      const progress = document.createElement('progress');\n",
              "      progress.max = size;\n",
              "      div.appendChild(progress);\n",
              "      document.body.appendChild(div);\n",
              "\n",
              "      const buffers = [];\n",
              "      let downloaded = 0;\n",
              "\n",
              "      const channel = await google.colab.kernel.comms.open(id);\n",
              "      // Send a message to notify the kernel that we're ready.\n",
              "      channel.send({})\n",
              "\n",
              "      for await (const message of channel.messages) {\n",
              "        // Send a message to notify the kernel that we're ready.\n",
              "        channel.send({})\n",
              "        if (message.buffers) {\n",
              "          for (const buffer of message.buffers) {\n",
              "            buffers.push(buffer);\n",
              "            downloaded += buffer.byteLength;\n",
              "            progress.value = downloaded;\n",
              "          }\n",
              "        }\n",
              "      }\n",
              "      const blob = new Blob(buffers, {type: 'application/binary'});\n",
              "      const a = document.createElement('a');\n",
              "      a.href = window.URL.createObjectURL(blob);\n",
              "      a.download = filename;\n",
              "      div.appendChild(a);\n",
              "      a.click();\n",
              "      div.remove();\n",
              "    }\n",
              "  "
            ],
            "text/plain": [
              "<IPython.core.display.Javascript object>"
            ]
          },
          "metadata": {
            "tags": []
          }
        },
        {
          "output_type": "display_data",
          "data": {
            "application/javascript": [
              "download(\"download_a34366a4-3e84-43f2-bd10-e8e55c7350e6\", \"ensemble1.txt\", 21000)"
            ],
            "text/plain": [
              "<IPython.core.display.Javascript object>"
            ]
          },
          "metadata": {
            "tags": []
          }
        }
      ]
    },
    {
      "cell_type": "code",
      "metadata": {
        "id": "cBhMAqPaINUo",
        "colab": {
          "base_uri": "https://localhost:8080/"
        },
        "outputId": "6380bb97-4f42-414b-84d2-a030502a7ec5"
      },
      "source": [
        "from sklearn.metrics import classification_report\r\n",
        "print(classification_report(scibert['result'],submission['result']))"
      ],
      "execution_count": null,
      "outputs": [
        {
          "output_type": "stream",
          "text": [
            "              precision    recall  f1-score   support\n",
            "\n",
            "           0       0.99      0.99      0.99      1184\n",
            "           1       0.96      0.96      0.96      1122\n",
            "           2       0.94      0.92      0.93       812\n",
            "           3       0.97      0.97      0.97      1074\n",
            "           4       0.97      0.97      0.97       759\n",
            "           5       0.97      0.97      0.97      1199\n",
            "           6       0.96      0.96      0.96       850\n",
            "\n",
            "    accuracy                           0.97      7000\n",
            "   macro avg       0.96      0.96      0.96      7000\n",
            "weighted avg       0.97      0.97      0.97      7000\n",
            "\n"
          ],
          "name": "stdout"
        }
      ]
    },
    {
      "cell_type": "code",
      "metadata": {
        "colab": {
          "base_uri": "https://localhost:8080/"
        },
        "id": "QHC1Pec_keR-",
        "outputId": "98347f5d-082f-4435-85cc-c026acb78375"
      },
      "source": [
        "print(classification_report(val['label'],scibert['result']))"
      ],
      "execution_count": null,
      "outputs": [
        {
          "output_type": "stream",
          "text": [
            "              precision    recall  f1-score   support\n",
            "\n",
            "           0       0.98      0.98      0.98      1866\n",
            "           1       0.92      0.91      0.91      1835\n",
            "           2       0.82      0.83      0.83      1355\n",
            "           3       0.93      0.93      0.93      1774\n",
            "           4       0.93      0.93      0.93      1217\n",
            "           5       0.91      0.91      0.91      1826\n",
            "           6       0.89      0.91      0.90      1327\n",
            "\n",
            "    accuracy                           0.92     11200\n",
            "   macro avg       0.91      0.91      0.91     11200\n",
            "weighted avg       0.92      0.92      0.92     11200\n",
            "\n"
          ],
          "name": "stdout"
        }
      ]
    },
    {
      "cell_type": "markdown",
      "metadata": {
        "id": "0pBDXhATIqGJ"
      },
      "source": [
        "#Predictions "
      ]
    },
    {
      "cell_type": "code",
      "metadata": {
        "id": "0T6MeF7NkxY4"
      },
      "source": [
        "\r\n",
        "\r\n",
        "\"\"\"\r\n",
        "The submission file IIITT.zip has the systems as follows:\r\n",
        "\r\n",
        "run 1 : Pre-trained Transformer Model (allenai/scibert_scivocab_uncased)\r\n",
        "run 2 : Average of probabities of predictions of ( BERT_base_uncased + RoBERTa_base + SciBERT)\r\n",
        "run 3 : Ensemble of probabilities of predictions by ranking the percentile of the result stored as a pandas DataFrame\r\n",
        "\"\"\""
      ],
      "execution_count": null,
      "outputs": []
    }
  ]
}